{
 "cells": [
  {
   "cell_type": "code",
   "execution_count": 1,
   "metadata": {},
   "outputs": [],
   "source": [
    "from gensim.models import Word2Vec\n",
    "import pandas as pd\n",
    "from sklearn.feature_extraction.text import TfidfVectorizer\n",
    "import re\n",
    "import spacy"
   ]
  },
  {
   "cell_type": "code",
   "execution_count": 2,
   "metadata": {},
   "outputs": [],
   "source": [
    "job_data = pd.read_csv('F:/Resume and Job Posting matcher/Processed dataset/job.csv')\n",
    "resume_data = pd.read_csv('F:/Resume and Job Posting matcher/Processed dataset/resume.csv')"
   ]
  },
  {
   "cell_type": "code",
   "execution_count": 3,
   "metadata": {},
   "outputs": [],
   "source": [
    "vectorizer = TfidfVectorizer()\n",
    "corpus  = job_data['Job Descriptions'].tolist()+resume_data['Resume'].tolist()"
   ]
  },
  {
   "cell_type": "code",
   "execution_count": 4,
   "metadata": {},
   "outputs": [],
   "source": [
    "tfidf_matrix = vectorizer.fit_transform(corpus)"
   ]
  },
  {
   "cell_type": "code",
   "execution_count": 5,
   "metadata": {},
   "outputs": [],
   "source": [
    "from sklearn.metrics.pairwise import cosine_similarity"
   ]
  },
  {
   "cell_type": "code",
   "execution_count": 6,
   "metadata": {},
   "outputs": [],
   "source": [
    "job_input = ['''\n",
    "Manage and optimize content creation, including blogs, newsletters, video content, and social media posts.\n",
    "Collaborate with product and sales teams to align marketing initiatives with product launches and sales targets.\n",
    "Conduct market research to identify consumer trends, competitor activities, and new opportunities.\n",
    "Track and analyze key marketing metrics and report on campaign performance.\n",
    "Manage the marketing budget, ensuring efficient allocation of resources across various initiatives.\n",
    "Lead, mentor, and manage the marketing team, providing direction and support for their professional development.\n",
    "Ensure consistency in brand messaging and maintain the company's voice across all marketing materials.\n",
    "Stay up-to-date with the latest marketing trends, tools, and technologies to ensure the company remains competitive.\n",
    "Requirements:\n",
    "Bachelor's degree in Marketing, Business, Communications, or a related field (or equivalent experience).\n",
    "3+ years of experience in marketing, with at least 1-2 years in a managerial or leadership role.\n",
    "Strong experience in digital marketing, including SEO/SEM, email marketing, social media, and content marketing.\n",
    "Proven ability to develop and execute marketing strategies that align with business objectives.\n",
    "Exceptional written and verbal communication skills.\n",
    "Strong analytical skills and experience with data-driven decision-making.\n",
    "Proficient in marketing tools such as Google Analytics, HubSpot, Mailchimp, SEMrush, and social media management platforms.\n",
    "Experience in managing a marketing team and working collaboratively with cross-functional teams.\n",
    "Ability to manage multiple projects simultaneously and meet deadlines in a fast-paced environment.\n",
    "Preferred Skills:\n",
    "Master’s degree in Marketing or Business.\n",
    "Experience with paid search (Google Ads, Facebook Ads, etc.).\n",
    "Knowledge of graphic design software (e.g., Adobe Creative Suite).\n",
    "Familiarity with marketing automation platforms.\n",
    "Experience in B2B or B2C marketing, depending on the company’s focus.\n",
    "Benefits:\n",
    "Competitive salary and bonus structure.\n",
    "Health, dental, and vision insurance.\n",
    "Paid time off and holidays.\n",
    "Retirement plan with company match.\n",
    "Opportunities for professional growth and development.\n",
    "Flexible work schedule and remote work options.\n",
    "\n",
    "''']"
   ]
  },
  {
   "cell_type": "code",
   "execution_count": 7,
   "metadata": {},
   "outputs": [],
   "source": [
    "resume_input = ['''Name: John Doe\n",
    "Contact: johndoe@email.com | (123) 456-7890\n",
    "LinkedIn: linkedin.com/in/johndoe\n",
    "\n",
    "Objective: A data-driven professional with 3+ years of experience in analyzing data and providing actionable insights. Skilled in SQL, Python, Tableau, and data visualization. Looking for a challenging Data Analyst role to contribute to data-driven decision-making.\n",
    "\n",
    "Skills:\n",
    "\n",
    "SQL (MySQL, PostgreSQL)\n",
    "Python (Pandas, NumPy)\n",
    "Tableau\n",
    "Data Analysis & Visualization\n",
    "Statistical Analysis\n",
    "Data Cleaning & Preprocessing\n",
    "Experience:\n",
    "\n",
    "Data Analyst | XYZ Corp.\n",
    "March 2021 - Present\n",
    "\n",
    "Developed and maintained interactive dashboards using Tableau.\n",
    "Wrote SQL queries to extract, filter, and aggregate large datasets.\n",
    "Analyzed sales data to identify trends and forecast future sales.\n",
    "Collaborated with marketing and finance teams to improve business processes.\n",
    "Junior Data Analyst | ABC Ltd.\n",
    "June 2019 - February 2021\n",
    "\n",
    "Assisted senior analysts in data collection, cleaning, and preprocessing.\n",
    "Conducted statistical analysis to measure customer satisfaction.\n",
    "Automated daily reporting tasks using Python.\n",
    "Education:\n",
    "\n",
    "Bachelor of Science in Computer Science\n",
    "University of XYZ, Graduated: May 2019''',\n",
    "'''Name: Jane Smith\n",
    "Contact: janesmith@email.com | (987) 654-3210\n",
    "LinkedIn: linkedin.com/in/janesmith\n",
    "\n",
    "Objective: A skilled software engineer with 4+ years of experience in developing scalable and efficient software solutions using Java, Spring Framework, and microservices. Looking for a challenging role to leverage my expertise in full-stack development and cloud technologies.\n",
    "\n",
    "Skills:\n",
    "\n",
    "Java (Spring, Hibernate)\n",
    "RESTful APIs\n",
    "Microservices Architecture\n",
    "AWS, Docker, Kubernetes\n",
    "ReactJS\n",
    "Git, CI/CD\n",
    "Experience:\n",
    "\n",
    "Software Engineer | Tech Solutions Inc.\n",
    "January 2020 - Present\n",
    "\n",
    "Designed and implemented a microservices-based architecture for a cloud-native application using Spring Boot.\n",
    "Developed RESTful APIs for seamless integration with front-end applications.\n",
    "Worked with AWS services like S3, Lambda, and DynamoDB.\n",
    "Collaborated with front-end developers to build an intuitive user interface with React.\n",
    "Junior Software Developer | CodeLab\n",
    "July 2018 - December 2019\n",
    "\n",
    "Assisted in the development of Java-based applications using the Spring Framework.\n",
    "Wrote unit and integration tests to ensure application reliability.\n",
    "Participated in daily Agile sprints and sprint retrospectives.\n",
    "Education:\n",
    "\n",
    "Bachelor of Technology in Computer Science\n",
    "ABC University, Graduated: May 2018\n",
    "''',\n",
    "'''Name: Sarah Johnson\n",
    "Contact: sarahjohnson@email.com | (555) 123-4567\n",
    "LinkedIn: linkedin.com/in/sarahjohnson\n",
    "\n",
    "Objective: Dynamic and results-driven Marketing Manager with 5+ years of experience in digital marketing, campaign management, and brand development. Passionate about leveraging data-driven strategies to drive growth and engagement. Looking for a challenging position to utilize my skills and expertise in a forward-thinking company.\n",
    "\n",
    "Skills:\n",
    "\n",
    "Digital Marketing (SEO, SEM, Social Media)\n",
    "Brand Strategy\n",
    "Marketing Analytics (Google Analytics, HubSpot)\n",
    "Campaign Management\n",
    "Team Leadership and Collaboration\n",
    "Content Creation and Management\n",
    "Experience:\n",
    "\n",
    "Marketing Manager | ABC Marketing Agency\n",
    "January 2020 - Present\n",
    "\n",
    "Developed and executed successful digital marketing campaigns across SEO, Google Ads, and social media platforms.\n",
    "Led a team of marketing professionals to increase brand awareness and customer engagement.\n",
    "Analyzed campaign performance and optimized marketing strategies to improve ROI.\n",
    "Managed content creation for email campaigns, blogs, and social media posts.\n",
    "Digital Marketing Specialist | XYZ Corporation\n",
    "June 2017 - December 2019\n",
    "\n",
    "Managed and optimized paid search campaigns (Google Ads, Bing Ads).\n",
    "Conducted A/B testing on landing pages to increase conversion rates.\n",
    "Worked closely with product and sales teams to align marketing strategies with business goals.\n",
    "Education:\n",
    "\n",
    "Bachelor of Science in Marketing\n",
    "University of ABC, Graduated: May 2017''',\n",
    "'''John Doe\n",
    "john.doe@email.com | (123) 456-7890 | LinkedIn: linkedin.com/in/johndoe | GitHub: github.com/johndoe\n",
    "\n",
    "Objective:\n",
    "Aspiring Web Developer with a solid foundation in front-end and back-end development. Eager to apply skills in HTML, CSS, JavaScript, and React to contribute to a growing web development team.\n",
    "\n",
    "Skills:\n",
    "\n",
    "HTML, CSS, JavaScript\n",
    "React.js, Bootstrap, jQuery\n",
    "Git, GitHub, Version Control\n",
    "Basic knowledge of Node.js\n",
    "Responsive Web Design\n",
    "RESTful APIs\n",
    "Experience:\n",
    "Intern | Web Development Intern\n",
    "Tech Solutions Inc. | June 2023 – August 2023\n",
    "\n",
    "Assisted in building responsive websites using HTML, CSS, and JavaScript.\n",
    "Worked with the design team to convert mockups into fully functional web pages.\n",
    "Optimized web applications for mobile devices and various screen sizes.\n",
    "Wrote clean and reusable code and participated in daily stand-ups and code reviews.\n",
    "Education:\n",
    "Bachelor of Science in Computer Science\n",
    "University of California, Los Angeles | Graduated: May 2023\n",
    "\n",
    "Relevant coursework: Web Development, JavaScript Programming, Data Structures'''\n",
    "]"
   ]
  },
  {
   "cell_type": "code",
   "execution_count": 8,
   "metadata": {},
   "outputs": [],
   "source": [
    "nlp = spacy.load('en_core_web_sm')\n",
    "def processing(content):\n",
    "    doc = nlp(content)\n",
    "    processed_tokens = [\n",
    "        token.lemma_ for token in doc \n",
    "        if not token.is_stop and not token.is_punct and not token.is_space\n",
    "    ]\n",
    "    processed_text = ' '.join(processed_tokens)\n",
    "    processed_text= re.sub(r'[^A-Za-z0-9\\s]', '', processed_text)\n",
    "    return processed_text.lower()"
   ]
  },
  {
   "cell_type": "code",
   "execution_count": 9,
   "metadata": {},
   "outputs": [],
   "source": [
    "job_tokens= [processing(job) for job in job_input]\n",
    "resume_tokens = [processing(resume) for resume in resume_input]"
   ]
  },
  {
   "cell_type": "code",
   "execution_count": 10,
   "metadata": {},
   "outputs": [
    {
     "data": {
      "text/plain": [
       "(4, 16849)"
      ]
     },
     "execution_count": 10,
     "metadata": {},
     "output_type": "execute_result"
    }
   ],
   "source": [
    "\n",
    "resume_vectors = vectorizer.transform(resume_tokens).toarray()\n",
    "resume_vectors\n",
    "resume_vectors.shape"
   ]
  },
  {
   "cell_type": "code",
   "execution_count": 11,
   "metadata": {},
   "outputs": [
    {
     "data": {
      "text/plain": [
       "array([[0., 0., 0., ..., 0., 0., 0.]])"
      ]
     },
     "execution_count": 11,
     "metadata": {},
     "output_type": "execute_result"
    }
   ],
   "source": [
    "job_vectors = vectorizer.transform(job_tokens).toarray()\n",
    "job_vectors"
   ]
  },
  {
   "cell_type": "code",
   "execution_count": 12,
   "metadata": {},
   "outputs": [],
   "source": [
    "sim= []\n",
    "job_vector = job_vectors[0].reshape(1, -1)\n",
    "for idx,resume_vector in enumerate(resume_vectors):\n",
    "    resume_vector = resume_vector.reshape(1, -1)\n",
    "    similarity = cosine_similarity(resume_vector, job_vector)\n",
    "    sim.append((idx, similarity))"
   ]
  },
  {
   "cell_type": "code",
   "execution_count": 13,
   "metadata": {},
   "outputs": [],
   "source": [
    "sorted_sim = sorted(sim, key=lambda x: x[1], reverse=True)"
   ]
  },
  {
   "cell_type": "code",
   "execution_count": 14,
   "metadata": {},
   "outputs": [
    {
     "name": "stdout",
     "output_type": "stream",
     "text": [
      "Resume index: 3, Similarity score: [[0.65939592]]\n",
      "Resume index: 1, Similarity score: [[0.12082242]]\n",
      "Resume index: 2, Similarity score: [[0.03166118]]\n",
      "Resume index: 4, Similarity score: [[0.03129196]]\n"
     ]
    }
   ],
   "source": [
    "for idx, score in sorted_sim:\n",
    "    print(f\"Resume index: {idx+1}, Similarity score: {score}\")"
   ]
  },
  {
   "cell_type": "code",
   "execution_count": 15,
   "metadata": {},
   "outputs": [],
   "source": [
    "import joblib"
   ]
  },
  {
   "cell_type": "code",
   "execution_count": 16,
   "metadata": {},
   "outputs": [
    {
     "data": {
      "text/plain": [
       "['tfidf_vectorizer.pkl']"
      ]
     },
     "execution_count": 16,
     "metadata": {},
     "output_type": "execute_result"
    }
   ],
   "source": [
    "joblib.dump(vectorizer, 'tfidf_vectorizer.pkl')"
   ]
  },
  {
   "cell_type": "code",
   "execution_count": null,
   "metadata": {},
   "outputs": [],
   "source": []
  }
 ],
 "metadata": {
  "kernelspec": {
   "display_name": "spacy_env",
   "language": "python",
   "name": "python3"
  },
  "language_info": {
   "codemirror_mode": {
    "name": "ipython",
    "version": 3
   },
   "file_extension": ".py",
   "mimetype": "text/x-python",
   "name": "python",
   "nbconvert_exporter": "python",
   "pygments_lexer": "ipython3",
   "version": "3.12.4"
  }
 },
 "nbformat": 4,
 "nbformat_minor": 2
}
